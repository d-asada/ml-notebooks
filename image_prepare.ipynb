{
 "cells": [
  {
   "cell_type": "code",
   "execution_count": null,
   "metadata": {
    "collapsed": false,
    "deletable": true,
    "editable": true
   },
   "outputs": [],
   "source": [
    "!mkdir output\n",
    "!rm -Rf output/* # 出力結果リセット"
   ]
  },
  {
   "cell_type": "code",
   "execution_count": 22,
   "metadata": {
    "collapsed": false,
    "deletable": true,
    "editable": true
   },
   "outputs": [],
   "source": [
    "#複製元の画像取得\n",
    "import io\n",
    "import urllib.request\n",
    "from PIL import Image\n",
    "f = io.BytesIO(urllib.request.urlopen(\"http://books.google.com/books/content?id=anCgswEACAAJ&printsec=frontcover&img=1&zoom=1&source=gbs_api\").read())\n",
    "img = Image.open(f)\n",
    "img.save(\"input/production_micro_ready.jpg\")\n",
    "\n",
    "f = io.BytesIO(urllib.request.urlopen(\"http://books.google.com/books/content?id=c6dMswEACAAJ&printsec=frontcover&img=1&zoom=1&source=gbs_api\").read())\n",
    "img = Image.open(f)\n",
    "img.save(\"input/dev_ops.jpg\")\n",
    "\n",
    "f = io.BytesIO(urllib.request.urlopen(\"http://books.google.com/books/content?id=l5VRDwAAQBAJ&printsec=frontcover&img=1&zoom=1&edge=curl&source=gbs_api\").read())\n",
    "img = Image.open(f)\n",
    "img.save(\"input/server_less.jpg\")"
   ]
  },
  {
   "cell_type": "code",
   "execution_count": 23,
   "metadata": {
    "collapsed": true,
    "deletable": true,
    "editable": true
   },
   "outputs": [],
   "source": [
    "# 画像複製のコード\n",
    "import os\n",
    "import glob\n",
    "import numpy as np\n",
    "from keras.preprocessing.image import ImageDataGenerator, load_img, img_to_array, array_to_img\n",
    "\n",
    "def draw_images(generator, x, dir_name, index):\n",
    "    # 出力ファイルの設定\n",
    "    save_name = 'ext-'\n",
    "    if not(os.path.exists('output/' + str(index))):\n",
    "        os.mkdir('output/' + str(index))\n",
    "\n",
    "    g = generator.flow(x, batch_size=1, save_to_dir='output/' + str(index), save_prefix=save_name, save_format='jpg')\n",
    "\n",
    "    # 1つの入力画像から何枚複製するかを指定\n",
    "    # g.next()の回数分拡張される\n",
    "    for i in range(50):\n",
    "        bach = g.next()\n",
    "        \n",
    "def main():\n",
    "    # 複製する画像群の読み込み\n",
    "    images = glob.glob(os.path.join('./input/', \"*\"))\n",
    "\n",
    "    # 複製する際の設定\n",
    "    generator = ImageDataGenerator(\n",
    "                    rotation_range=45, # 45°まで回転\n",
    "                    width_shift_range=0.3, # 水平方向にランダムでシフト\n",
    "                    height_shift_range=0.3, # 垂直方向にランダムでシフト\n",
    "                    channel_shift_range=5.0, # 色調をランダム変更\n",
    "                    shear_range=0.1, # 斜め方向に引っ張る\n",
    "                    horizontal_flip=False, # 垂直方向にランダムで反転\n",
    "                    vertical_flip=False # 水平方向にランダムで反転\n",
    "                    )\n",
    "\n",
    "    # 読み込んだ画像を順に複製\n",
    "    for i in range(len(images)):\n",
    "        img = load_img(images[i])\n",
    "        # 画像を配列化して転置\n",
    "        x = img_to_array(img)\n",
    "        x = np.expand_dims(x, axis=0)\n",
    "        # 画像の複製\n",
    "        draw_images(generator, x, \"\", i)"
   ]
  },
  {
   "cell_type": "code",
   "execution_count": 29,
   "metadata": {
    "collapsed": false,
    "deletable": true,
    "editable": true
   },
   "outputs": [],
   "source": [
    "# 画像複製の実行\n",
    "main()"
   ]
  },
  {
   "cell_type": "code",
   "execution_count": null,
   "metadata": {
    "collapsed": false,
    "deletable": true,
    "editable": true
   },
   "outputs": [],
   "source": [
    "# 出力結果の確認\n",
    "!ls -lR input output"
   ]
  },
  {
   "cell_type": "code",
   "execution_count": 31,
   "metadata": {
    "collapsed": false,
    "deletable": true,
    "editable": true
   },
   "outputs": [],
   "source": [
    "# 複製した画像のndarray化\n",
    "X = []\n",
    "Y = []\n",
    "\n",
    "images = glob.glob(os.path.join('./output/0/', \"*.jpg\"))\n",
    "for img in images:\n",
    "  l_img = load_img(img, target_size=[299,299])\n",
    "  X.append(img_to_array(l_img))\n",
    "  Y.append(0)\n",
    "  \n",
    "images = glob.glob(os.path.join('./output/1/', \"*.jpg\"))\n",
    "for img in images:\n",
    "  l_img = load_img(img, target_size=[299,299])\n",
    "  X.append(img_to_array(l_img))\n",
    "  Y.append(1)\n",
    "  \n",
    "images = glob.glob(os.path.join('./output/2/', \"*.jpg\"))\n",
    "for img in images:\n",
    "  l_img = load_img(img, target_size=[299,299])\n",
    "  X.append(img_to_array(l_img))\n",
    "  Y.append(2)\n",
    "  \n",
    "X = np.asarray(X)\n",
    "Y = np.asarray(Y)\n",
    "\n",
    "# npz形式で保存\n",
    "np.savez('datasets2.npz',features = X, labels = Y)"
   ]
  },
  {
   "cell_type": "code",
   "execution_count": null,
   "metadata": {
    "collapsed": false,
    "deletable": true,
    "editable": true
   },
   "outputs": [],
   "source": [
    "# GCSのバケットに保存\n",
    "!gsutil cp datasets2.npz gs://asobiba-ml-bucket/datasets.npz"
   ]
  }
 ],
 "metadata": {
  "kernelspec": {
   "display_name": "Python 2",
   "language": "python",
   "name": "python2"
  },
  "language_info": {
   "codemirror_mode": {
    "name": "ipython",
    "version": 2
   },
   "file_extension": ".py",
   "mimetype": "text/x-python",
   "name": "python",
   "nbconvert_exporter": "python",
   "pygments_lexer": "ipython2",
   "version": "2.7.15"
  }
 },
 "nbformat": 4,
 "nbformat_minor": 2
}
